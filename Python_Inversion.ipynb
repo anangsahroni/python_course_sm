{
  "nbformat": 4,
  "nbformat_minor": 0,
  "metadata": {
    "colab": {
      "name": "Python_Inversion.ipynb",
      "provenance": [],
      "collapsed_sections": []
    },
    "kernelspec": {
      "name": "python3",
      "display_name": "Python 3"
    },
    "language_info": {
      "name": "python"
    }
  },
  "cells": [
    {
      "cell_type": "markdown",
      "metadata": {
        "id": "cLh0xHwMAHZs"
      },
      "source": [
        "# Inversi Linear\n",
        " \n",
        "Inversi linear berarti hubungan antara data dengan model dapat dituangkan dalam sebuah persamaan yang linear, tentunya yang memenuhi syarat linearitas. Pada inversi linear ini biasanya hubungan antara data dengan model dapat dituangkan dalam persamaan maju:\n",
        " \n",
        "$$ d=Gm, $$\n",
        " \n",
        "dengan $d$ adalah berupa vektor data berukuran $M \\times 1$, $G$ adalah matriks kernel atau Jacobian dengan ukuran $M \\times N$, dab $m$ adalah vektor model dengan ukuran $N \\times 1$. Solusi Least Square untuk inversi linear ini biasanya didapatkan dengan:\n",
        " \n",
        "$$m=(G^TG)^{-1}G^Td$$"
      ]
    },
    {
      "cell_type": "markdown",
      "metadata": {
        "id": "ACXAea0dCUTm"
      },
      "source": [
        "## Solusi Persamaan Garis Lurus\n",
        " \n",
        "Sebagai contoh disini kita akan mencari solusi untuk sebuah persamaan garis lurus yang biasanya dituliskan dalam $y=bx+c$, dimana parameter model yang kita cari adalah nilai gradien $b$ dan intersep $c$ menggunakan data $y$. Data yang kita punya adalah:\n",
        " \n",
        "| No  | x  |   y|\n",
        "|---|---|---|\n",
        "| 1  |  2 | 5  |\n",
        "|  2 |  3 | 7  |\n",
        "|3|4|9|\n",
        "|  3 | 5  |  11 |\n",
        " \n",
        "Kita plot terlebih dahulu:"
      ]
    },
    {
      "cell_type": "code",
      "metadata": {
        "colab": {
          "base_uri": "https://localhost:8080/",
          "height": 238
        },
        "id": "py0L34RpHYTE",
        "outputId": "a5c9e17e-bfa7-412d-936d-c5d2b751c72a"
      },
      "source": [
        "import matplotlib.pyplot as plt\n",
        " \n",
        "x=np.array([2,3,4,5])\n",
        "y=np.array([5,7,9,11])\n",
        " \n",
        "plt.scatter(x,y,zorder=110)\n",
        "plt.xlabel(\"x\")\n",
        "plt.ylabel(\"y\")\n",
        "plt.grid(True)"
      ],
      "execution_count": null,
      "outputs": [
        {
          "output_type": "display_data",
          "data": {
            "image/png": "[encoded data removed]",
            "text/plain": [
              "<Figure size 432x288 with 1 Axes>"
            ]
          },
          "metadata": {
            "tags": [],
            "needs_background": "light"
          }
        }
      ]
    },
    {
      "cell_type": "markdown",
      "metadata": {
        "id": "GzkOQQejH4NF"
      },
      "source": [
        "Kita kemudian terjemahkan data dan Jacobian dalam Python:"
      ]
    },
    {
      "cell_type": "code",
      "metadata": {
        "id": "NJHxcWqdDxfP"
      },
      "source": [
        "import numpy as np\n",
        " \n",
        "d=np.array([5,7,9,11])\n",
        " \n",
        "G=np.array([[2, 1],\n",
        "            [3, 1],\n",
        "            [4, 1],\n",
        "            [5, 1]])"
      ],
      "execution_count": null,
      "outputs": []
    },
    {
      "cell_type": "markdown",
      "metadata": {
        "id": "ILpxkOqcGJOd"
      },
      "source": [
        "Selanjutnya kita menghitung aljabar untuk beberapa operator yang kita butuhkan:"
      ]
    },
    {
      "cell_type": "code",
      "metadata": {
        "colab": {
          "base_uri": "https://localhost:8080/"
        },
        "id": "cPbziEao__OL",
        "outputId": "31569b3e-b63f-460c-ff5a-6f7688d24c63"
      },
      "source": [
        "GTd = G.T @ d\n",
        "GTd"
      ],
      "execution_count": null,
      "outputs": [
        {
          "output_type": "execute_result",
          "data": {
            "text/plain": [
              "array([122,  32])"
            ]
          },
          "metadata": {
            "tags": []
          },
          "execution_count": 14
        }
      ]
    },
    {
      "cell_type": "code",
      "metadata": {
        "colab": {
          "base_uri": "https://localhost:8080/"
        },
        "id": "BCvPWPAkGawT",
        "outputId": "8ce4c2b0-fc93-498b-9a9b-35eada677817"
      },
      "source": [
        "GTG = (G.T @ G)\n",
        "GTGinv = np.linalg.inv(GTG)\n",
        "GTGinv"
      ],
      "execution_count": null,
      "outputs": [
        {
          "output_type": "execute_result",
          "data": {
            "text/plain": [
              "array([[ 0.2, -0.7],\n",
              "       [-0.7,  2.7]])"
            ]
          },
          "metadata": {
            "tags": []
          },
          "execution_count": 15
        }
      ]
    },
    {
      "cell_type": "markdown",
      "metadata": {
        "id": "CNl6St4NG2jw"
      },
      "source": [
        "Selanjutnya model dapat kita cari:"
      ]
    },
    {
      "cell_type": "code",
      "metadata": {
        "colab": {
          "base_uri": "https://localhost:8080/"
        },
        "id": "_KjXorNbG_-j",
        "outputId": "b451d1fc-7f90-4425-ed75-a38a712c45b1"
      },
      "source": [
        "m = GTGinv @ GTd\n",
        "m"
      ],
      "execution_count": null,
      "outputs": [
        {
          "output_type": "execute_result",
          "data": {
            "text/plain": [
              "array([2., 1.])"
            ]
          },
          "metadata": {
            "tags": []
          },
          "execution_count": 16
        }
      ]
    },
    {
      "cell_type": "markdown",
      "metadata": {
        "id": "r1PBpIsAIctk"
      },
      "source": [
        "Dari perhitungan kita mendapatkan nilai gradien $b$ adalah 2 dan intersep $c$ adalah 1, selanjutnya coba kita plot hasil perhitungan tersebut"
      ]
    },
    {
      "cell_type": "code",
      "metadata": {
        "colab": {
          "base_uri": "https://localhost:8080/",
          "height": 238
        },
        "id": "5aHlnIQtIpd2",
        "outputId": "601ce197-5f08-471d-f51b-45bf4a04056c"
      },
      "source": [
        "import matplotlib.pyplot as plt\n",
        " \n",
        "x=np.array([2,3,4,5])\n",
        "y=np.array([5,7,9,11])\n",
        " \n",
        "plt.scatter(x,y,zorder=110, label=\"Data\")\n",
        "plt.xlabel(\"x\")\n",
        "plt.ylabel(\"y\")\n",
        "plt.grid(True)\n",
        " \n",
        " \n",
        "# hasil perhitungan\n",
        "b=m[0]\n",
        "c=m[1]\n",
        "yl=b*x+c\n",
        " \n",
        "plt.plot(x,yl, linestyle=\"--\", color=\"green\", \\\n",
        "    label=\"$y={:.2f}x+{:.2f}$\".format(b,c))\n",
        " \n",
        "plt.legend()\n",
        "plt.show()"
      ],
      "execution_count": null,
      "outputs": [
        {
          "output_type": "display_data",
          "data": {
            "image/png": "[encoded data removed]",
            "text/plain": [
              "<Figure size 432x288 with 1 Axes>"
            ]
          },
          "metadata": {
            "tags": [],
            "needs_background": "light"
          }
        }
      ]
    },
    {
      "cell_type": "markdown",
      "metadata": {
        "id": "WhFyeK9bJ34P"
      },
      "source": [
        "## Solusi Persamaan Garis Lurus dengan Noise\n",
        " \n",
        "Kira akan berikan noise pada data $d$, noise random dengan rerata 0 dan deviasi standar 0,5:"
      ]
    },
    {
      "cell_type": "code",
      "metadata": {
        "colab": {
          "base_uri": "https://localhost:8080/"
        },
        "id": "WGavB8gnKWVm",
        "outputId": "6e5323e4-17a6-4478-f5c3-aa8451a4ac9e"
      },
      "source": [
        "noise=np.random.normal(0, 0.5, len(d))\n",
        " \n",
        "d_noise = d+noise\n",
        "d_noise"
      ],
      "execution_count": null,
      "outputs": [
        {
          "output_type": "execute_result",
          "data": {
            "text/plain": [
              "array([ 5.3795573 ,  6.7313757 ,  8.52595614, 10.54415629])"
            ]
          },
          "metadata": {
            "tags": []
          },
          "execution_count": 27
        }
      ]
    },
    {
      "cell_type": "markdown",
      "metadata": {
        "id": "QWE68YiILGWV"
      },
      "source": [
        "Kita plot terlebih dahulu:"
      ]
    },
    {
      "cell_type": "code",
      "metadata": {
        "colab": {
          "base_uri": "https://localhost:8080/",
          "height": 238
        },
        "id": "UWDbG8VhLInV",
        "outputId": "fec6b673-5a46-4ce7-f5a8-02148e4e85ae"
      },
      "source": [
        "import matplotlib.pyplot as plt\n",
        " \n",
        "x=np.array([2,3,4,5])\n",
        "y=np.array([5,7,9,11])\n",
        " \n",
        "plt.scatter(x,d_noise,zorder=110, label=\"Data dengan noise\")\n",
        "plt.xlabel(\"x\")\n",
        "plt.ylabel(\"y\")\n",
        "plt.grid(True)\n",
        "plt.show()"
      ],
      "execution_count": null,
      "outputs": [
        {
          "output_type": "display_data",
          "data": {
            "image/png": "[encoded data removed]",
            "text/plain": [
              "<Figure size 432x288 with 1 Axes>"
            ]
          },
          "metadata": {
            "tags": [],
            "needs_background": "light"
          }
        }
      ]
    },
    {
      "cell_type": "markdown",
      "metadata": {
        "id": "ZYRHhY_oLWr7"
      },
      "source": [
        "Dengan cara yang sama kita dapat menghitung model:"
      ]
    },
    {
      "cell_type": "code",
      "metadata": {
        "colab": {
          "base_uri": "https://localhost:8080/"
        },
        "id": "hYQMdc9CLZaw",
        "outputId": "fa5d3e1b-639b-40a1-bd3f-98cc2abe6acb"
      },
      "source": [
        "GTd_noise = G.T @ d_noise\n",
        "m_noise = GTGinv @ GTd_noise\n",
        "m_noise"
      ],
      "execution_count": null,
      "outputs": [
        {
          "output_type": "execute_result",
          "data": {
            "text/plain": [
              "array([1.72883774, 1.74432926])"
            ]
          },
          "metadata": {
            "tags": []
          },
          "execution_count": 29
        }
      ]
    },
    {
      "cell_type": "code",
      "metadata": {
        "colab": {
          "base_uri": "https://localhost:8080/",
          "height": 299
        },
        "id": "qw6cb0SMM9oD",
        "outputId": "0052e4c5-159b-4046-becc-f62417001957"
      },
      "source": [
        "plt.scatter(x,d_noise,zorder=110, label=\"Data dengan noise\")\n",
        "plt.xlabel(\"x\")\n",
        "plt.ylabel(\"y\")\n",
        "plt.grid(True)\n",
        " \n",
        " \n",
        "# hasil perhitungan\n",
        "b=m_noise[0]\n",
        "c=m_noise[1]\n",
        "yln=b*x+c\n",
        " \n",
        "plt.plot(x,yln, linestyle=\"--\", color=\"green\", \\\n",
        "    label=\"$y={:.2f}x+{:.2f}$\".format(b,c))\n",
        " \n",
        "plt.legend()\n",
        "plt.show()"
      ],
      "execution_count": null,
      "outputs": [
        {
          "output_type": "display_data",
          "data": {
            "image/png": "[encoded data removed]",
            "text/plain": [
              "<Figure size 432x288 with 1 Axes>"
            ]
          },
          "metadata": {
            "tags": [],
            "needs_background": "light"
          }
        }
      ]
    },
    {
      "cell_type": "markdown",
      "metadata": {
        "id": "4bS8oHrKSFQH"
      },
      "source": [
        "## Kuantifikasi Error\n",
        " \n",
        "Error dapat kita kuantifikasi dengan menggunakan L2 norm yang dapat diterjemahkan dalam Python:"
      ]
    },
    {
      "cell_type": "code",
      "metadata": {
        "colab": {
          "base_uri": "https://localhost:8080/"
        },
        "id": "Nu_F1qNCSRrl",
        "outputId": "78ca7cb4-a86a-4af0-c5c2-03378316fe39"
      },
      "source": [
        "diff = d_noise - yln\n",
        " \n",
        "misfit = diff.T @ diff\n",
        "misfit"
      ],
      "execution_count": null,
      "outputs": [
        {
          "output_type": "execute_result",
          "data": {
            "text/plain": [
              "0.11341732761167485"
            ]
          },
          "metadata": {
            "tags": []
          },
          "execution_count": 33
        }
      ]
    },
    {
      "cell_type": "markdown",
      "metadata": {
        "id": "RV99uELUSqN1"
      },
      "source": [
        "# Inversi Dilenarisasi\n",
        " \n",
        "Inversi pada masalah nonlinear biasanya dilinearisasi dengan pendekatan deret Taylor sampai orde kedua, inversi dilakukan pada ruang sempit error model dan error data."
      ]
    },
    {
      "cell_type": "markdown",
      "metadata": {
        "id": "p_ru58bTTLCb"
      },
      "source": [
        "## Inversi hiposenter\n",
        " \n",
        "Contoh kasus yang akan kita gunakan adalah perhitungan episenter, untuk mempermudah kita akan menganggap bawah permukaan merupakan medium homogen, kasus yang kita hadapi adalah:\n",
        "\n",
        "![geigermerapi](img/merapi_stations.png)\n",
        "\n",
        "Stasiun-stasiun di bawah ini merekam gempa Vukano Tektonik dengan waktu tiba gelombang P dijabarkan pada tabel di atas, waktu 0s adalah 17.00.00 WIB.\n",
        "Jika kecepatan homogen 3 km/s, cari hiposenter !\n",
        "\n",
        "| id\t| nama\t| alt| \tx\t| y| arr\n",
        "|---|---|---|---|---| --- |\n",
        "|1\t|Gemer\t|1331|\t435634|\t9166075| 1.2689472 |\n",
        "|2\t|Klatakan\t|1880\t|437186|\t9167475| 1.11920458 |\n",
        "|3|\tSelo|\t1883|\t439270|\t9168756| 1.23894408 |\n",
        "|4|\tPasar Bubar|\t2569|\t439845|\t9166732| 1.26084491 |\n",
        "|5|\tKendil|\t1622|\t439937|\t9164018 | 1.2827079|"
      ]
    },
    {
      "cell_type": "markdown",
      "metadata": {
        "id": "WaZX-iavS35F"
      },
      "source": [
        "Persamaan maju yang menghubungkan data berupa waktu tiba ($T_{arr}$) dengan model yang kita cari ($T_0$, $x$,$y$,$z$) adalah:\n",
        " \n",
        "$$T_{arr}=T_0 + \\frac{\\sqrt{(x-x_s)^2+(y-y_s)^2+(z-z_s)^2}}{v},$$\n",
        " \n",
        "dengan $x_s$,$y_s$,$z_s$ menunjukkan lokasi stasiun.\n",
        " \n",
        "Menggunakan ekspansi Taylor sampai orde dua kita mendapatkan:\n",
        " \n",
        "$$ m = m_0 + \\Delta m $$\n",
        " \n",
        "dengan $m_0$ merupakan tebakan awal dan $\\Delta m$ merupakan koreksi dari model kita.\n",
        " \n",
        "Nilai $\\Delta m$ dapat kita estimasi dengan Least Square:\n",
        " \n",
        "$$\\Delta m=(G^TG)^{-1}G^T \\Delta d$$ \n",
        " \n",
        "dengan $G$ berisi turunan parsial persamaan maju terhadap masing-masing model.\n",
        " \n",
        "Kemudian dapat membuat Jacobian tersebut dengan isi masing-masing adalah:\n",
        " \n",
        "\\begin{bmatrix}\n",
        " \\frac{x-x_{s1}}{vD_1} & \\frac{y-y_{s1}}{vD_1}  & \\frac{z-z_{s1}}{vD_1}  & 1 \\\\ \n",
        "\\frac{x-x_{s2}}{vD_2} & \\frac{y-y_{s2}}{vD_2}  & \\frac{z-z_{s2}}{vD_2}  & 1 \\\\  \n",
        " \\vdots & \\vdots &  \\vdots & \\vdots\\\\ \n",
        " \\frac{x-x_{sN}}{vD_N} & \\frac{y-y_{sN}}{vD_N}  & \\frac{z-z_{sN}}{vD_N}  & 1 \\\\ \n",
        "\\end{bmatrix}\n",
        " \n",
        "Tugas utama kita adalah membuat matriks $G$ di atas menggunakan loop."
      ]
    }
  ]
}