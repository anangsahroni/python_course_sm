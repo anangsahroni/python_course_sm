{
  "nbformat": 4,
  "nbformat_minor": 0,
  "metadata": {
    "colab": {
      "name": "Python_Inversion.ipynb",
      "provenance": [],
      "collapsed_sections": [],
      "toc_visible": true
    },
    "kernelspec": {
      "name": "python3",
      "display_name": "Python 3"
    },
    "language_info": {
      "name": "python"
    }
  },
  "cells": [
    {
      "cell_type": "markdown",
      "metadata": {
        "id": "cLh0xHwMAHZs"
      },
      "source": [
        "# Inversi Linear\n",
        " \n",
        "Inversi linear berarti hubungan antara data dengan model dapat dituangkan dalam sebuah persamaan yang linear, tentunya yang memenuhi syarat linearitas. Pada inversi linear ini biasanya hubungan antara data dengan model dapat dituangkan dalam persamaan maju:\n",
        " \n",
        "$$ d=Gm, $$\n",
        " \n",
        "dengan $d$ adalah berupa vektor data berukuran $M \\times 1$, $G$ adalah matriks kernel atau Jacobian dengan ukuran $M \\times N$, dab $m$ adalah vektor model dengan ukuran $N \\times 1$. Solusi Least Square untuk inversi linear ini biasanya didapatkan dengan:\n",
        " \n",
        "$$m=(G^TG)^{-1}G^Td$$"
      ]
    },
    {
      "cell_type": "markdown",
      "metadata": {
        "id": "ACXAea0dCUTm"
      },
      "source": [
        "## Solusi Persamaan Garis Lurus\n",
        " \n",
        "Sebagai contoh disini kita akan mencari solusi untuk sebuah persamaan garis lurus yang biasanya dituliskan dalam $y=bx+c$, dimana parameter model yang kita cari adalah nilai gradien $b$ dan intersep $c$ menggunakan data $y$. Data yang kita punya adalah:\n",
        " \n",
        "| No  | x  |   y|\n",
        "|---|---|---|\n",
        "| 1  |  2 | 5  |\n",
        "|  2 |  3 | 7  |\n",
        "|3|4|9|\n",
        "|  4 | 5  |  11 |\n",
        " \n",
        "Kita plot terlebih dahulu:"
      ]
    },
    {
      "cell_type": "code",
      "metadata": {
        "colab": {
          "base_uri": "https://localhost:8080/",
          "height": 279
        },
        "id": "py0L34RpHYTE",
        "outputId": "8bd0b364-9f2a-4960-8494-6ac43e74180a"
      },
      "source": [
        "import matplotlib.pyplot as plt\n",
        "import numpy as np\n",
        "\n",
        "x=np.array([2,3,4,5])\n",
        "y=np.array([5,7,9,11])\n",
        " \n",
        "plt.scatter(x,y,zorder=110, color=\"blue\", marker=\"^\")\n",
        "plt.xlabel(\"x\")\n",
        "plt.ylabel(\"y\")\n",
        "plt.grid(True)"
      ],
      "execution_count": 37,
      "outputs": [
        {
          "output_type": "display_data",
          "data": {
            "image/png": "[encoded data removed]",
            "text/plain": [
              "<Figure size 432x288 with 1 Axes>"
            ]
          },
          "metadata": {
            "tags": [],
            "needs_background": "light"
          }
        }
      ]
    },
    {
      "cell_type": "markdown",
      "metadata": {
        "id": "GzkOQQejH4NF"
      },
      "source": [
        "Kita kemudian terjemahkan data dan Jacobian dalam Python:"
      ]
    },
    {
      "cell_type": "code",
      "metadata": {
        "id": "NJHxcWqdDxfP"
      },
      "source": [
        "import numpy as np\n",
        " \n",
        "d=np.array([5,7,9,11])\n",
        " \n",
        "G=np.array([[2, 1],\n",
        "            [3, 1],\n",
        "            [4, 1],\n",
        "            [5, 1]])"
      ],
      "execution_count": 38,
      "outputs": []
    },
    {
      "cell_type": "code",
      "metadata": {
        "colab": {
          "base_uri": "https://localhost:8080/",
          "height": 286
        },
        "id": "pMK2e-yep0N7",
        "outputId": "1d90f981-17e5-4ac0-d341-a011e9e23dec"
      },
      "source": [
        "plt.imshow(G)\n",
        "plt.colorbar()"
      ],
      "execution_count": 44,
      "outputs": [
        {
          "output_type": "execute_result",
          "data": {
            "text/plain": [
              "<matplotlib.colorbar.Colorbar at 0x7ff42819a0d0>"
            ]
          },
          "metadata": {
            "tags": []
          },
          "execution_count": 44
        },
        {
          "output_type": "display_data",
          "data": {
            "image/png": "[encoded data removed]",
            "text/plain": [
              "<Figure size 432x288 with 2 Axes>"
            ]
          },
          "metadata": {
            "tags": [],
            "needs_background": "light"
          }
        }
      ]
    },
    {
      "cell_type": "code",
      "metadata": {
        "colab": {
          "base_uri": "https://localhost:8080/",
          "height": 276
        },
        "id": "QMnvRufBqpAu",
        "outputId": "327481b9-5b54-4082-f803-8a858bfdf273"
      },
      "source": [
        "plt.imshow(G.T)\n",
        "plt.colorbar()"
      ],
      "execution_count": 45,
      "outputs": [
        {
          "output_type": "execute_result",
          "data": {
            "text/plain": [
              "<matplotlib.colorbar.Colorbar at 0x7ff427c1eb90>"
            ]
          },
          "metadata": {
            "tags": []
          },
          "execution_count": 45
        },
        {
          "output_type": "display_data",
          "data": {
            "image/png": "[encoded data removed]",
            "text/plain": [
              "<Figure size 432x288 with 2 Axes>"
            ]
          },
          "metadata": {
            "tags": [],
            "needs_background": "light"
          }
        }
      ]
    },
    {
      "cell_type": "markdown",
      "metadata": {
        "id": "ILpxkOqcGJOd"
      },
      "source": [
        "Selanjutnya kita menghitung aljabar untuk beberapa operator yang kita butuhkan:"
      ]
    },
    {
      "cell_type": "code",
      "metadata": {
        "colab": {
          "base_uri": "https://localhost:8080/"
        },
        "id": "cPbziEao__OL",
        "outputId": "31569b3e-b63f-460c-ff5a-6f7688d24c63"
      },
      "source": [
        "GTd = G.T @ d\n",
        "GTd"
      ],
      "execution_count": null,
      "outputs": [
        {
          "output_type": "execute_result",
          "data": {
            "text/plain": [
              "array([122,  32])"
            ]
          },
          "metadata": {
            "tags": []
          },
          "execution_count": 14
        }
      ]
    },
    {
      "cell_type": "code",
      "metadata": {
        "colab": {
          "base_uri": "https://localhost:8080/"
        },
        "id": "BCvPWPAkGawT",
        "outputId": "6fb47914-09de-4e9f-a5b1-134f1c686b2e"
      },
      "source": [
        "GTG = (G.T @ G)\n",
        "GTGinv = np.linalg.inv(GTG)\n",
        "GTGinv"
      ],
      "execution_count": 46,
      "outputs": [
        {
          "output_type": "execute_result",
          "data": {
            "text/plain": [
              "array([[ 0.2, -0.7],\n",
              "       [-0.7,  2.7]])"
            ]
          },
          "metadata": {
            "tags": []
          },
          "execution_count": 46
        }
      ]
    },
    {
      "cell_type": "code",
      "metadata": {
        "colab": {
          "base_uri": "https://localhost:8080/",
          "height": 286
        },
        "id": "dDOcHSNVrKff",
        "outputId": "5d0bae02-ca89-4042-ccd3-f6677b4b22f0"
      },
      "source": [
        "plt.imshow(GTGinv)\n",
        "plt.colorbar()"
      ],
      "execution_count": 47,
      "outputs": [
        {
          "output_type": "execute_result",
          "data": {
            "text/plain": [
              "<matplotlib.colorbar.Colorbar at 0x7ff427b2b2d0>"
            ]
          },
          "metadata": {
            "tags": []
          },
          "execution_count": 47
        },
        {
          "output_type": "display_data",
          "data": {
            "image/png": "[encoded data removed]",
            "text/plain": [
              "<Figure size 432x288 with 2 Axes>"
            ]
          },
          "metadata": {
            "tags": [],
            "needs_background": "light"
          }
        }
      ]
    },
    {
      "cell_type": "markdown",
      "metadata": {
        "id": "CNl6St4NG2jw"
      },
      "source": [
        "Selanjutnya model dapat kita cari:"
      ]
    },
    {
      "cell_type": "code",
      "metadata": {
        "colab": {
          "base_uri": "https://localhost:8080/"
        },
        "id": "_KjXorNbG_-j",
        "outputId": "b451d1fc-7f90-4425-ed75-a38a712c45b1"
      },
      "source": [
        "m = GTGinv @ GTd\n",
        "# m = np.matmul(GTGinv, GTd) #alternative\n",
        "m"
      ],
      "execution_count": null,
      "outputs": [
        {
          "output_type": "execute_result",
          "data": {
            "text/plain": [
              "array([2., 1.])"
            ]
          },
          "metadata": {
            "tags": []
          },
          "execution_count": 16
        }
      ]
    },
    {
      "cell_type": "markdown",
      "metadata": {
        "id": "r1PBpIsAIctk"
      },
      "source": [
        "Dari perhitungan kita mendapatkan nilai gradien $b$ adalah 2 dan intersep $c$ adalah 1, selanjutnya coba kita plot hasil perhitungan tersebut"
      ]
    },
    {
      "cell_type": "code",
      "metadata": {
        "colab": {
          "base_uri": "https://localhost:8080/",
          "height": 279
        },
        "id": "5aHlnIQtIpd2",
        "outputId": "7b66b702-39df-497f-bed5-97c76130d020"
      },
      "source": [
        "import matplotlib.pyplot as plt\n",
        " \n",
        "x=np.array([2,3,4,5])\n",
        "y=np.array([5,7,9,11])\n",
        " \n",
        "plt.scatter(x,y,zorder=110, label=\"Data\", color=\"blue\")\n",
        "plt.xlabel(\"x\")\n",
        "plt.ylabel(\"y\")\n",
        "plt.grid(True)\n",
        " \n",
        " \n",
        "# hasil perhitungan\n",
        "b=m[0]\n",
        "c=m[1]\n",
        "y_calc=b*x+c\n",
        " \n",
        "plt.plot(x,y_calc, linestyle=\"--\", color=\"green\", \\\n",
        "    label=\"$y={:.2f}x+{:.2f}$\".format(b,c))\n",
        " \n",
        "plt.legend()\n",
        "plt.show()"
      ],
      "execution_count": 49,
      "outputs": [
        {
          "output_type": "display_data",
          "data": {
            "image/png": "[encoded data removed]",
            "text/plain": [
              "<Figure size 432x288 with 1 Axes>"
            ]
          },
          "metadata": {
            "tags": [],
            "needs_background": "light"
          }
        }
      ]
    },
    {
      "cell_type": "markdown",
      "metadata": {
        "id": "WhFyeK9bJ34P"
      },
      "source": [
        "## Solusi Persamaan Garis Lurus dengan Noise\n",
        " \n",
        "Kita akan berikan noise pada data $d$, noise random dengan rerata 0 dan deviasi standar 0,5:"
      ]
    },
    {
      "cell_type": "code",
      "metadata": {
        "colab": {
          "base_uri": "https://localhost:8080/"
        },
        "id": "JlJsbPyUs8PL",
        "outputId": "320349ea-e8b5-4ef2-eec1-7d5963e74bde"
      },
      "source": [
        "d"
      ],
      "execution_count": 51,
      "outputs": [
        {
          "output_type": "execute_result",
          "data": {
            "text/plain": [
              "array([ 5,  7,  9, 11])"
            ]
          },
          "metadata": {
            "tags": []
          },
          "execution_count": 51
        }
      ]
    },
    {
      "cell_type": "code",
      "metadata": {
        "colab": {
          "base_uri": "https://localhost:8080/"
        },
        "id": "WGavB8gnKWVm",
        "outputId": "916cc197-b2c2-4fa7-e78d-c5f727edc23d"
      },
      "source": [
        "noise=np.random.normal(0, 0.5, len(d))\n",
        " \n",
        "d_noise = d+noise\n",
        "d_noise"
      ],
      "execution_count": 50,
      "outputs": [
        {
          "output_type": "execute_result",
          "data": {
            "text/plain": [
              "array([ 5.36349793,  7.74278525,  8.3757196 , 11.03219363])"
            ]
          },
          "metadata": {
            "tags": []
          },
          "execution_count": 50
        }
      ]
    },
    {
      "cell_type": "markdown",
      "metadata": {
        "id": "QWE68YiILGWV"
      },
      "source": [
        "Kita plot terlebih dahulu:"
      ]
    },
    {
      "cell_type": "code",
      "metadata": {
        "colab": {
          "base_uri": "https://localhost:8080/",
          "height": 279
        },
        "id": "UWDbG8VhLInV",
        "outputId": "197dfe2c-7925-46b6-aa4a-7d473bd81543"
      },
      "source": [
        "import matplotlib.pyplot as plt\n",
        " \n",
        "x=np.array([2,3,4,5])\n",
        "y=np.array([5,7,9,11])\n",
        " \n",
        "plt.scatter(x,d_noise,zorder=110, label=\"Data dengan noise\")\n",
        "plt.scatter(x,d,zorder=110, label=\"Data tanpa noise\")\n",
        "plt.xlabel(\"x\")\n",
        "plt.ylabel(\"y\")\n",
        "plt.grid(True)\n",
        "plt.legend()\n",
        "plt.show()"
      ],
      "execution_count": 52,
      "outputs": [
        {
          "output_type": "display_data",
          "data": {
            "image/png": "[encoded data removed]",
            "text/plain": [
              "<Figure size 432x288 with 1 Axes>"
            ]
          },
          "metadata": {
            "tags": [],
            "needs_background": "light"
          }
        }
      ]
    },
    {
      "cell_type": "markdown",
      "metadata": {
        "id": "ZYRHhY_oLWr7"
      },
      "source": [
        "Dengan cara yang sama kita dapat menghitung model:"
      ]
    },
    {
      "cell_type": "code",
      "metadata": {
        "colab": {
          "base_uri": "https://localhost:8080/"
        },
        "id": "hYQMdc9CLZaw",
        "outputId": "3ba41c06-873c-444d-cb88-c9885ffe025f"
      },
      "source": [
        "GTd_noise = G.T @ d_noise\n",
        "m_noise = GTGinv @ GTd_noise\n",
        "m_noise"
      ],
      "execution_count": 53,
      "outputs": [
        {
          "output_type": "execute_result",
          "data": {
            "text/plain": [
              "array([1.76390215, 1.95489159])"
            ]
          },
          "metadata": {
            "tags": []
          },
          "execution_count": 53
        }
      ]
    },
    {
      "cell_type": "code",
      "metadata": {
        "colab": {
          "base_uri": "https://localhost:8080/",
          "height": 279
        },
        "id": "qw6cb0SMM9oD",
        "outputId": "d61f6070-7a12-4c6d-aa74-7108a8f4da98"
      },
      "source": [
        "plt.scatter(x,d_noise,zorder=110, label=\"Data dengan noise\")\n",
        "#plt.scatter(x,d,zorder=100, label=\"Data tanpa noise\")\n",
        "plt.xlabel(\"x\")\n",
        "plt.ylabel(\"y\")\n",
        "plt.grid(True)\n",
        " \n",
        " \n",
        "# hasil perhitungan\n",
        "b=m_noise[0]\n",
        "c=m_noise[1]\n",
        "yln=b*x+c\n",
        " \n",
        "plt.plot(x,yln, linestyle=\"--\", color=\"green\", \\\n",
        "    label=\"$y={:.2f}x+{:.2f}$\".format(b,c))\n",
        " \n",
        "plt.legend()\n",
        "plt.show()"
      ],
      "execution_count": 55,
      "outputs": [
        {
          "output_type": "display_data",
          "data": {
            "image/png": "[encoded data removed]",
            "text/plain": [
              "<Figure size 432x288 with 1 Axes>"
            ]
          },
          "metadata": {
            "tags": [],
            "needs_background": "light"
          }
        }
      ]
    },
    {
      "cell_type": "markdown",
      "metadata": {
        "id": "4bS8oHrKSFQH"
      },
      "source": [
        "## Kuantifikasi Error\n",
        " \n",
        "Error dapat kita kuantifikasi dengan menggunakan L2 norm yang dapat diterjemahkan dalam Python:"
      ]
    },
    {
      "cell_type": "code",
      "metadata": {
        "colab": {
          "base_uri": "https://localhost:8080/"
        },
        "id": "Nu_F1qNCSRrl",
        "outputId": "a4cde2ff-0b11-45b0-b202-3f443beda346"
      },
      "source": [
        "diff = d_noise - y_calc\n",
        " \n",
        "misfit = diff.T @ diff\n",
        "misfit"
      ],
      "execution_count": 56,
      "outputs": [
        {
          "output_type": "execute_result",
          "data": {
            "text/plain": [
              "1.0746231308451344"
            ]
          },
          "metadata": {
            "tags": []
          },
          "execution_count": 56
        }
      ]
    },
    {
      "cell_type": "code",
      "metadata": {
        "colab": {
          "base_uri": "https://localhost:8080/"
        },
        "id": "86Qvahsqt7qC",
        "outputId": "31feaabe-66fc-48ad-865c-0d1ef907b36d"
      },
      "source": [
        "diff"
      ],
      "execution_count": 57,
      "outputs": [
        {
          "output_type": "execute_result",
          "data": {
            "text/plain": [
              "array([ 0.36349793,  0.74278525, -0.6242804 ,  0.03219363])"
            ]
          },
          "metadata": {
            "tags": []
          },
          "execution_count": 57
        }
      ]
    },
    {
      "cell_type": "markdown",
      "metadata": {
        "id": "RV99uELUSqN1"
      },
      "source": [
        "# Inversi Dilinearisasi\n",
        " \n",
        "Inversi pada masalah nonlinear biasanya dilinearisasi dengan pendekatan deret Taylor sampai orde kedua, inversi dilakukan pada ruang sempit error model dan error data."
      ]
    },
    {
      "cell_type": "markdown",
      "metadata": {
        "id": "p_ru58bTTLCb"
      },
      "source": [
        "## Inversi hiposenter\n",
        " \n",
        "Contoh kasus yang akan kita gunakan adalah perhitungan episenter, untuk mempermudah kita akan menganggap bawah permukaan merupakan medium homogen, kasus yang kita hadapi adalah:\n",
        "\n",
        "![geigermerapi](img/merapi_stations.png)\n",
        "\n",
        "Stasiun-stasiun di bawah ini merekam gempa Vukano Tektonik dengan waktu tiba gelombang P dijabarkan pada tabel di atas, waktu 0s adalah 17.00.00 WIB.\n",
        "Jika kecepatan homogen 3 km/s, cari hiposenter !\n",
        "\n",
        "| id\t| nama\t| alt| \tx\t[m]| y [m]| arr [s]\n",
        "|---|---|---|---|---| --- |\n",
        "|1\t|Gemer\t|1331|\t435634|\t9166075| 1.2689472 |\n",
        "|2\t|Klatakan\t|1880\t|437186|\t9167475| 1.11920458 |\n",
        "|3|\tSelo|\t1883|\t439270|\t9168756| 1.23894408 |\n",
        "|4|\tPasar Bubar|\t2569|\t439845|\t9166732| 1.26084491 |\n",
        "|5|\tKendil|\t1622|\t439937|\t9164018 | 1.2827079|"
      ]
    },
    {
      "cell_type": "markdown",
      "metadata": {
        "id": "WaZX-iavS35F"
      },
      "source": [
        "Persamaan maju yang menghubungkan data berupa waktu tiba ($T_{arr}$) dengan model yang kita cari ($T_0$, $x$,$y$,$z$) adalah:\n",
        " \n",
        "$$T_{arr}=T_0 + \\frac{\\sqrt{(x-x_s)^2+(y-y_s)^2+(z-z_s)^2}}{v},$$\n",
        " \n",
        "dengan $x_s$,$y_s$,$z_s$ menunjukkan lokasi stasiun.\n",
        " \n",
        "Menggunakan ekspansi Taylor sampai orde dua kita mendapatkan:\n",
        " \n",
        "$$ m = m_0 + \\Delta m $$\n",
        " \n",
        "dengan $m_0$ merupakan tebakan awal dan $\\Delta m$ merupakan koreksi dari model kita.\n",
        " \n",
        "Nilai $\\Delta m$ dapat kita estimasi dengan Least Square:\n",
        " \n",
        "$$\\Delta m=(G^TG)^{-1}G^T \\Delta d$$ \n",
        " \n",
        "dengan $G$ berisi turunan parsial persamaan maju terhadap masing-masing model.\n",
        " \n",
        "Kemudian dapat membuat Jacobian tersebut dengan isi masing-masing adalah:\n",
        " \n",
        "\\begin{bmatrix}\n",
        " \\frac{x-x_{s1}}{vD_1} & \\frac{y-y_{s1}}{vD_1}  & \\frac{z-z_{s1}}{vD_1}  & 1 \\\\ \n",
        "\\frac{x-x_{s2}}{vD_2} & \\frac{y-y_{s2}}{vD_2}  & \\frac{z-z_{s2}}{vD_2}  & 1 \\\\  \n",
        " \\vdots & \\vdots &  \\vdots & \\vdots\\\\ \n",
        " \\frac{x-x_{sN}}{vD_N} & \\frac{y-y_{sN}}{vD_N}  & \\frac{z-z_{sN}}{vD_N}  & 1 \\\\ \n",
        "\\end{bmatrix}\n",
        " \n",
        "Tugas utama kita adalah membuat matriks $G$ di atas menggunakan loop."
      ]
    },
    {
      "cell_type": "markdown",
      "metadata": {
        "id": "PX6bgvUZ-DqA"
      },
      "source": [
        "## Menghitung G"
      ]
    },
    {
      "cell_type": "code",
      "metadata": {
        "colab": {
          "base_uri": "https://localhost:8080/"
        },
        "id": "8XKyAEaUvp-J",
        "outputId": "05ea6200-c3f2-405e-fe45-2d15468af8c3"
      },
      "source": [
        "import math\n",
        "\n",
        "# Iterasi 1\n",
        "\n",
        "# true \n",
        "# 438613, 9166504, -1000, 0\n",
        "\n",
        "# mendefinisikan kecepatan\n",
        "v = 3000 #m/s\n",
        "\n",
        "# menebak hiposenter\n",
        "x, y, z, T0 = 437000, 9167000, -900, 0.5\n",
        "\n",
        "# mendefinisikan data\n",
        "zss = np.array([1331, 1880, 1883, 2569, 1622])\n",
        "xss = np.array([435634, 437186, 439270, 439845, 439937])\n",
        "yss = np.array([9166075, 9167475, 9168756, 9166732, 9164018])\n",
        "arrs = np.array([1.2689472, 1.11920458, 1.23894408, 1.26084491, 1.2827079])\t\t\n",
        "\n",
        "# membuat fungsi untuk menghitung jarak\n",
        "def distance(xs,ys,zs,x,y,z):\n",
        "  x2 = (xs-x)**2\n",
        "  y2 = (ys-y)**2\n",
        "  z2 = (zs-z)**2\n",
        "  d2 = x2 + y2 +z2\n",
        "  d = math.sqrt(d2)\n",
        "  return d\n",
        "\n",
        "# looping untuk menghitung G\n",
        "for xs, ys, zs, i in zip(xss, yss, zss, range(len(xss))):\n",
        "  dist_s = distance(xs, ys, zs, x, y, z) #di\n",
        "  komp_x = (x - xs)/(v*dist_s)\n",
        "  komp_y = (y - ys)/(v*dist_s)\n",
        "  komp_z = (z - zs)/(v*dist_s) \n",
        "  komp_T = 1\n",
        "\n",
        "  baris = np.array([komp_x, komp_y, komp_z, komp_T]) \n",
        "\n",
        "  if i == 0:\n",
        "    G = baris\n",
        "  elif i != 0:\n",
        "    G = np.vstack((G, baris))\n",
        "\n",
        "G\n"
      ],
      "execution_count": 66,
      "outputs": [
        {
          "output_type": "execute_result",
          "data": {
            "text/plain": [
              "array([[ 1.64102018e-04,  1.11123255e-04, -2.68017278e-04,\n",
              "         1.00000000e+00],\n",
              "       [-2.19359163e-05, -5.60191411e-05, -3.27859394e-04,\n",
              "         1.00000000e+00],\n",
              "       [-1.89275976e-04, -1.46417891e-04, -2.32050678e-04,\n",
              "         1.00000000e+00],\n",
              "       [-2.11002390e-04,  1.98764993e-05, -2.57282000e-04,\n",
              "         1.00000000e+00],\n",
              "       [-2.00344144e-04,  2.03413768e-04, -1.72035387e-04,\n",
              "         1.00000000e+00]])"
            ]
          },
          "metadata": {
            "tags": []
          },
          "execution_count": 66
        }
      ]
    },
    {
      "cell_type": "markdown",
      "metadata": {
        "id": "VYxIawu69529"
      },
      "source": [
        "## Melakukan Inversi"
      ]
    },
    {
      "cell_type": "code",
      "metadata": {
        "colab": {
          "base_uri": "https://localhost:8080/"
        },
        "id": "9FS-UxIizQsV",
        "outputId": "9b2bb511-4be0-4dfd-ed77-173154aa29da"
      },
      "source": [
        "d = arrs\n",
        "GTG = G.T @ G\n",
        "GTGinv = np.linalg.inv(GTG)\n",
        "\n",
        "# delta d? -> mencari d_calc [forward]\n",
        "def t_arr_calc(xs,ys,zs,x,y,z,t0):\n",
        "  t_arr = t0 + (distance(xs,ys,zs,x,y,z)/v)\n",
        "  return t_arr\n",
        "\n",
        "# persamaan maju\n",
        "d_calc = [t_arr_calc(xs, ys, zs, x, y, z, T0) for xs,ys,zs in zip(xss,yss,zss)]\n",
        "d_calc = np.array(d_calc)\n",
        "\n",
        "# menghitung delta_d\n",
        "delta_d = d - d_calc\n",
        "\n",
        "# melakukan inversi\n",
        "GTdeltad = G.T @ delta_d\n",
        "delta_m = GTGinv @ GTdeltad\n",
        "delta_m"
      ],
      "execution_count": 69,
      "outputs": [
        {
          "output_type": "execute_result",
          "data": {
            "text/plain": [
              "array([ 1.66867342e+03, -6.21185613e+02, -3.95661424e+02, -4.61280597e-01])"
            ]
          },
          "metadata": {
            "tags": []
          },
          "execution_count": 69
        }
      ]
    },
    {
      "cell_type": "markdown",
      "metadata": {
        "id": "9Dtk5FT89_Cl"
      },
      "source": [
        "## Mengoreksi model"
      ]
    },
    {
      "cell_type": "code",
      "metadata": {
        "colab": {
          "base_uri": "https://localhost:8080/"
        },
        "id": "kDtnUEPrzTUE",
        "outputId": "f980c3d5-182f-4af4-d49d-c241dabdf231"
      },
      "source": [
        "m0 = np.array([x, y, z, T0]) #tebakan\n",
        "m1 = m0 + delta_m\n",
        "\n",
        "for mm in m1:\n",
        "  print(mm)"
      ],
      "execution_count": 71,
      "outputs": [
        {
          "output_type": "stream",
          "text": [
            "438668.673417057\n",
            "9166378.814387046\n",
            "-1295.661424396385\n",
            "0.03871940261794293\n"
          ],
          "name": "stdout"
        }
      ]
    },
    {
      "cell_type": "markdown",
      "metadata": {
        "id": "_khqVRjn26hh"
      },
      "source": [
        "## Menggabungkan dalam 1 proses banyak iterasi"
      ]
    },
    {
      "cell_type": "code",
      "metadata": {
        "colab": {
          "base_uri": "https://localhost:8080/"
        },
        "id": "Shxmhgen2jmd",
        "outputId": "b7939ae6-6a67-485a-8cb8-f2ebe0dbff27"
      },
      "source": [
        "import math\n",
        "\n",
        "# Iterasi 1\n",
        "# true hiposenter dan origin time\n",
        "xt, yt, zt, T0t =  438613, 9166504, -1000, 0\n",
        "print(\"Sebenarnya: \", xt, yt, zt, T0t)\n",
        "\n",
        "# mendefinisikan kecepatan\n",
        "v = 3000 #m/s\n",
        "\n",
        "# menebak hiposenter\n",
        "x, y, z, T0 = 437000, 9167000, -1500, 0.5\n",
        "print(\"Tebakan: \", x, y, z, T0)\n",
        "\n",
        "# mendefinisikan data [arr] dan koordinat stasiun\n",
        "zss = np.array([1331, 1880, 1883, 2569, 1622])\n",
        "xss = np.array([435634, 437186, 439270, 439845, 439937])\n",
        "yss = np.array([9166075, 9167475, 9168756, 9166732, 9164018])\n",
        "arrs = np.array([1.2689472, 1.11920458, 1.23894408, 1.26084491, 1.2827079])\t\n",
        "\n",
        "# membuat fungsi untuk menghitung jarak (phytagoras)\n",
        "def distance(xs,ys,zs,x,y,z):\n",
        "  x2 = (xs-x)**2\n",
        "  y2 = (ys-y)**2\n",
        "  z2 = (zs-z)**2\n",
        "  d2 = x2 + y2 +z2\n",
        "  d = math.sqrt(d2)\n",
        "  return d\n",
        "\n",
        "# membuat fungsi pemodelan maju\n",
        "def t_arr_calc(xs,ys,zs,x,y,z,t0):\n",
        "  t_arr = t0 + (distance(xs,ys,zs,x,y,z)/v)\n",
        "  return t_arr\n",
        "\n",
        "# Melakukan perulangan\n",
        "iterasi = 10\n",
        "for i in range(iterasi):\n",
        "  # looping untuk menghitung G per baris/stasiun\n",
        "  for xs, ys, zs, u in zip(xss, yss, zss, range(len(xss))):\n",
        "    dist_s = distance(xs, ys, zs, x, y, z) #jarak stasiun-hiposenter tebakan\n",
        "    komp_x = (x - xs)/(v*dist_s)\n",
        "    komp_y = (y - ys)/(v*dist_s)\n",
        "    komp_z = (z - zs)/(v*dist_s) \n",
        "    komp_T = 1\n",
        "\n",
        "    baris = np.array([komp_x, komp_y, komp_z, komp_T]) \n",
        "\n",
        "    # menumpuk baris-baris\n",
        "    if u == 0: # jika stasiun 1 maka matriks diisi baris tersebut\n",
        "      G = baris\n",
        "    elif u != 0: # jika stasiun selanjutnya maka matrik ditumpuk dg baris\n",
        "      G = np.vstack((G, baris))\n",
        "    \n",
        "  # pemodelan maju\n",
        "  d_calc = [t_arr_calc(xs, ys, zs, x, y, z, T0) for xs,ys,zs in zip(xss,yss,zss)]\n",
        "  d_calc = np.array(d_calc)\n",
        "\n",
        "  # definisikan GTGinv dan GTdeltad\n",
        "  d = arrs\n",
        "  GTG = G.T @ G\n",
        "  GTGinv = np.linalg.inv(GTG)\n",
        "  delta_d = d - d_calc\n",
        "  GTdeltad = G.T @ delta_d\n",
        "\n",
        "  # inversi untuk mencari delta m\n",
        "  delta_m = GTGinv @ GTdeltad\n",
        "  \n",
        "  # mengoreksi model dengan delta_m\n",
        "  x = x + delta_m[0]\n",
        "  y = y + delta_m[1]\n",
        "  z = z + delta_m[2]\n",
        "  T0 = T0 + delta_m[3]\n",
        "\n",
        "  # menghitung misfit\n",
        "  # forward model dg hasil baru\n",
        "  d_calc = [t_arr_calc(xs, ys, zs, x, y, z, T0) for xs,ys,zs in zip(xss,yss,zss)]\n",
        "  d_calc = np.array(d_calc)\n",
        "  delta_d = d - d_calc\n",
        "  misfit = delta_d.T @ delta_d\n",
        "\n",
        "  # cetak hasil\n",
        "  print(i+1, x, y, z, T0, misfit)\n",
        "\n",
        "\n"
      ],
      "execution_count": 85,
      "outputs": [
        {
          "output_type": "stream",
          "text": [
            "Sebenarnya:  438613 9166504 -1000 0\n",
            "Tebakan:  437000 9167000 -1500 0.5\n",
            "1 438879.51766646304 9166347.100204917 -1195.9364341294859 0.0712695446322158 0.10005242466604451\n",
            "2 438600.05921189865 9166507.384868357 -994.2698713609061 0.005549628872735468 8.944350381700933e-05\n",
            "3 438612.9791182956 9166503.997448578 -999.9978276999718 7.5088106368248475e-06 2.575219992500999e-10\n",
            "4 438613.00000877236 9166504.000014976 -1000.0000457615148 -1.2770748045653688e-08 3.785277738370712e-18\n",
            "5 438613.00000879937 9166504.000014981 -1000.0000457301575 -1.2779135090259128e-08 3.783894186369477e-18\n",
            "6 438613.00000879937 9166504.000014981 -1000.0000457301584 -1.2779135361387603e-08 3.783894466432601e-18\n",
            "7 438613.00000879937 9166504.000014981 -1000.0000457301586 -1.2779135373626417e-08 3.783894466432601e-18\n",
            "8 438613.00000879937 9166504.000014981 -1000.0000457301588 -1.277913538586523e-08 3.78389446645819e-18\n",
            "9 438613.00000879937 9166504.000014981 -1000.0000457301591 -1.2779135620148656e-08 3.783894466432601e-18\n",
            "10 438613.00000879937 9166504.000014981 -1000.0000457301593 -1.2779135632387476e-08 3.783894940504232e-18\n"
          ],
          "name": "stdout"
        }
      ]
    },
    {
      "cell_type": "code",
      "metadata": {
        "id": "fPcnwHhs5Ofg"
      },
      "source": [
        ""
      ],
      "execution_count": null,
      "outputs": []
    }
  ]
}